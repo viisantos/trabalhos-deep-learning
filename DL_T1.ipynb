{
  "cells": [
    {
      "cell_type": "code",
      "source": [],
      "outputs": [],
      "execution_count": null,
      "metadata": {
        "id": "q1tPdd5Jg_HO"
      }
    },
    {
      "cell_type": "markdown",
      "source": [
        "# Classificação de clientes"
      ],
      "metadata": {
        "id": "-YZir9AOjcWW"
      }
    },
    {
      "cell_type": "code",
      "source": [
        "%matplotlib inline\n",
        "\n",
        "# join one or more path components intelligently\n",
        "from os.path import join\n",
        "\n",
        "# Interface com o sistema operacional\n",
        "import os\n",
        "\n",
        "# Manipulação de dataframes\n",
        "import pandas as pd\n",
        "\n",
        "# Manipulação de dados tabulares\n",
        "import numpy as np\n",
        "\n",
        "# Normalização das características\n",
        "from sklearn.preprocessing import StandardScaler\n",
        "\n",
        "# visualização de dados baseada no matplotlib\n",
        "import seaborn as sns\n",
        "\n",
        "# Esboço de gráficos\n",
        "from matplotlib import pyplot as plt"
      ],
      "outputs": [],
      "execution_count": 16,
      "metadata": {
        "id": "AbAVXrUMiS8I"
      }
    },
    {
      "cell_type": "markdown",
      "source": [
        "## Carga e inspeção dos dados"
      ],
      "metadata": {
        "id": "1q_hJLpdsoML"
      }
    },
    {
      "cell_type": "code",
      "source": [
        "# Definição dos nomes das variáveis (conforme a tabela contida no enunciado)\n",
        "colnames = ['ESCT', 'NDEP', 'RENDA', 'TIPOR', 'VBEM', 'NPARC',\n",
        "            'VPARC', 'TEL', 'IDADE', 'RESMS', 'ENTRADA', 'CLASSE']"
      ],
      "outputs": [],
      "execution_count": 2,
      "metadata": {
        "id": "kqhbdu5V_uCi"
      }
    },
    {
      "cell_type": "code",
      "source": [
        "# Leitura dos dados de treino\n",
        "arquivo = './credtrain.txt'\n",
        "data_train = pd.read_csv(arquivo, sep='\\t', header=None, names = colnames)\n",
        "\n",
        "# Leitura dos dados de teste\n",
        "arquivo = './credtest.txt'\n",
        "data_test = pd.read_csv(arquivo, sep='\\t', header=None, names = colnames)"
      ],
      "outputs": [],
      "execution_count": 4,
      "metadata": {
        "id": "O8f0yXVbtEmZ"
      }
    },
    {
      "cell_type": "markdown",
      "source": [
        "**Inspeção dos dados**"
      ],
      "metadata": {
        "id": "0tFxQ82et98A"
      }
    },
    {
      "cell_type": "code",
      "source": [
        "# Inspeção da dimensão do dataset\n",
        "print(data_train.shape, data_test.shape)"
      ],
      "outputs": [
        {
          "output_type": "stream",
          "name": "stdout",
          "text": "(1500, 12) (577, 12)\n"
        }
      ],
      "execution_count": 5,
      "metadata": {
        "colab": {
          "base_uri": "https://localhost:8080/"
        },
        "id": "Doy7gsSfecpv",
        "outputId": "4470ec1a-7e9d-4065-ce0a-5a2ee1f27750"
      }
    },
    {
      "cell_type": "code",
      "source": [
        "# Inspeção das primeiras linhas do conjunto de treinamento\n",
        "data_train.head()"
      ],
      "outputs": [
        {
          "output_type": "execute_result",
          "execution_count": 6,
          "data": {
            "text/html": "\n  <div id=\"df-aec2eae2-b193-4d84-9ce3-0ccf4a9b35d5\">\n    <div class=\"colab-df-container\">\n      <div>\n<style scoped>\n    .dataframe tbody tr th:only-of-type {\n        vertical-align: middle;\n    }\n\n    .dataframe tbody tr th {\n        vertical-align: top;\n    }\n\n    .dataframe thead th {\n        text-align: right;\n    }\n</style>\n<table border=\"1\" class=\"dataframe\">\n  <thead>\n    <tr style=\"text-align: right;\">\n      <th></th>\n      <th>ESCT</th>\n      <th>NDEP</th>\n      <th>RENDA</th>\n      <th>TIPOR</th>\n      <th>VBEM</th>\n      <th>NPARC</th>\n      <th>VPARC</th>\n      <th>TEL</th>\n      <th>IDADE</th>\n      <th>RESMS</th>\n      <th>ENTRADA</th>\n      <th>CLASSE</th>\n    </tr>\n  </thead>\n  <tbody>\n    <tr>\n      <th>0</th>\n      <td>1</td>\n      <td>0</td>\n      <td>360</td>\n      <td>0</td>\n      <td>313</td>\n      <td>9</td>\n      <td>52</td>\n      <td>0</td>\n      <td>25</td>\n      <td>48</td>\n      <td>0</td>\n      <td>1</td>\n    </tr>\n    <tr>\n      <th>1</th>\n      <td>0</td>\n      <td>0</td>\n      <td>350</td>\n      <td>1</td>\n      <td>468</td>\n      <td>10</td>\n      <td>65</td>\n      <td>0</td>\n      <td>33</td>\n      <td>6</td>\n      <td>0</td>\n      <td>1</td>\n    </tr>\n    <tr>\n      <th>2</th>\n      <td>0</td>\n      <td>0</td>\n      <td>1100</td>\n      <td>0</td>\n      <td>829</td>\n      <td>9</td>\n      <td>125</td>\n      <td>0</td>\n      <td>56</td>\n      <td>48</td>\n      <td>0</td>\n      <td>1</td>\n    </tr>\n    <tr>\n      <th>3</th>\n      <td>0</td>\n      <td>0</td>\n      <td>3000</td>\n      <td>0</td>\n      <td>552</td>\n      <td>12</td>\n      <td>76</td>\n      <td>1</td>\n      <td>31</td>\n      <td>60</td>\n      <td>0</td>\n      <td>1</td>\n    </tr>\n    <tr>\n      <th>4</th>\n      <td>1</td>\n      <td>0</td>\n      <td>1000</td>\n      <td>0</td>\n      <td>809</td>\n      <td>12</td>\n      <td>111</td>\n      <td>0</td>\n      <td>24</td>\n      <td>7</td>\n      <td>0</td>\n      <td>1</td>\n    </tr>\n  </tbody>\n</table>\n</div>\n      <button class=\"colab-df-convert\" onclick=\"convertToInteractive('df-aec2eae2-b193-4d84-9ce3-0ccf4a9b35d5')\"\n              title=\"Convert this dataframe to an interactive table.\"\n              style=\"display:none;\">\n        \n  <svg xmlns=\"http://www.w3.org/2000/svg\" height=\"24px\"viewBox=\"0 0 24 24\"\n       width=\"24px\">\n    <path d=\"M0 0h24v24H0V0z\" fill=\"none\"/>\n    <path d=\"M18.56 5.44l.94 2.06.94-2.06 2.06-.94-2.06-.94-.94-2.06-.94 2.06-2.06.94zm-11 1L8.5 8.5l.94-2.06 2.06-.94-2.06-.94L8.5 2.5l-.94 2.06-2.06.94zm10 10l.94 2.06.94-2.06 2.06-.94-2.06-.94-.94-2.06-.94 2.06-2.06.94z\"/><path d=\"M17.41 7.96l-1.37-1.37c-.4-.4-.92-.59-1.43-.59-.52 0-1.04.2-1.43.59L10.3 9.45l-7.72 7.72c-.78.78-.78 2.05 0 2.83L4 21.41c.39.39.9.59 1.41.59.51 0 1.02-.2 1.41-.59l7.78-7.78 2.81-2.81c.8-.78.8-2.07 0-2.86zM5.41 20L4 18.59l7.72-7.72 1.47 1.35L5.41 20z\"/>\n  </svg>\n      </button>\n      \n  <style>\n    .colab-df-container {\n      display:flex;\n      flex-wrap:wrap;\n      gap: 12px;\n    }\n\n    .colab-df-convert {\n      background-color: #E8F0FE;\n      border: none;\n      border-radius: 50%;\n      cursor: pointer;\n      display: none;\n      fill: #1967D2;\n      height: 32px;\n      padding: 0 0 0 0;\n      width: 32px;\n    }\n\n    .colab-df-convert:hover {\n      background-color: #E2EBFA;\n      box-shadow: 0px 1px 2px rgba(60, 64, 67, 0.3), 0px 1px 3px 1px rgba(60, 64, 67, 0.15);\n      fill: #174EA6;\n    }\n\n    [theme=dark] .colab-df-convert {\n      background-color: #3B4455;\n      fill: #D2E3FC;\n    }\n\n    [theme=dark] .colab-df-convert:hover {\n      background-color: #434B5C;\n      box-shadow: 0px 1px 3px 1px rgba(0, 0, 0, 0.15);\n      filter: drop-shadow(0px 1px 2px rgba(0, 0, 0, 0.3));\n      fill: #FFFFFF;\n    }\n  </style>\n\n      <script>\n        const buttonEl =\n          document.querySelector('#df-aec2eae2-b193-4d84-9ce3-0ccf4a9b35d5 button.colab-df-convert');\n        buttonEl.style.display =\n          google.colab.kernel.accessAllowed ? 'block' : 'none';\n\n        async function convertToInteractive(key) {\n          const element = document.querySelector('#df-aec2eae2-b193-4d84-9ce3-0ccf4a9b35d5');\n          const dataTable =\n            await google.colab.kernel.invokeFunction('convertToInteractive',\n                                                     [key], {});\n          if (!dataTable) return;\n\n          const docLinkHtml = 'Like what you see? Visit the ' +\n            '<a target=\"_blank\" href=https://colab.research.google.com/notebooks/data_table.ipynb>data table notebook</a>'\n            + ' to learn more about interactive tables.';\n          element.innerHTML = '';\n          dataTable['output_type'] = 'display_data';\n          await google.colab.output.renderOutput(dataTable, element);\n          const docLink = document.createElement('div');\n          docLink.innerHTML = docLinkHtml;\n          element.appendChild(docLink);\n        }\n      </script>\n    </div>\n  </div>\n  ",
            "text/plain": "   ESCT  NDEP  RENDA  TIPOR  VBEM  ...  TEL  IDADE  RESMS  ENTRADA  CLASSE\n0     1     0    360      0   313  ...    0     25     48        0       1\n1     0     0    350      1   468  ...    0     33      6        0       1\n2     0     0   1100      0   829  ...    0     56     48        0       1\n3     0     0   3000      0   552  ...    1     31     60        0       1\n4     1     0   1000      0   809  ...    0     24      7        0       1\n\n[5 rows x 12 columns]"
          },
          "metadata": {}
        }
      ],
      "execution_count": 6,
      "metadata": {
        "colab": {
          "base_uri": "https://localhost:8080/",
          "height": 206
        },
        "id": "1gM-thS-_uCj",
        "outputId": "1501944f-90ae-4431-f01b-fadc35645ff4"
      }
    },
    {
      "cell_type": "code",
      "source": [
        "# Inspeção das primeiras linhas do conjunto de teste\n",
        "data_test.head()"
      ],
      "outputs": [
        {
          "output_type": "execute_result",
          "execution_count": 8,
          "data": {
            "text/html": "\n  <div id=\"df-ced8ecae-cb38-45d4-82f1-b553cc1e82c5\">\n    <div class=\"colab-df-container\">\n      <div>\n<style scoped>\n    .dataframe tbody tr th:only-of-type {\n        vertical-align: middle;\n    }\n\n    .dataframe tbody tr th {\n        vertical-align: top;\n    }\n\n    .dataframe thead th {\n        text-align: right;\n    }\n</style>\n<table border=\"1\" class=\"dataframe\">\n  <thead>\n    <tr style=\"text-align: right;\">\n      <th></th>\n      <th>ESCT</th>\n      <th>NDEP</th>\n      <th>RENDA</th>\n      <th>TIPOR</th>\n      <th>VBEM</th>\n      <th>NPARC</th>\n      <th>VPARC</th>\n      <th>TEL</th>\n      <th>IDADE</th>\n      <th>RESMS</th>\n      <th>ENTRADA</th>\n      <th>CLASSE</th>\n    </tr>\n  </thead>\n  <tbody>\n    <tr>\n      <th>0</th>\n      <td>0</td>\n      <td>2</td>\n      <td>500</td>\n      <td>1</td>\n      <td>618</td>\n      <td>10</td>\n      <td>85</td>\n      <td>0</td>\n      <td>36</td>\n      <td>6</td>\n      <td>0</td>\n      <td>0</td>\n    </tr>\n    <tr>\n      <th>1</th>\n      <td>1</td>\n      <td>0</td>\n      <td>813</td>\n      <td>0</td>\n      <td>552</td>\n      <td>4</td>\n      <td>119</td>\n      <td>0</td>\n      <td>43</td>\n      <td>48</td>\n      <td>119</td>\n      <td>1</td>\n    </tr>\n    <tr>\n      <th>2</th>\n      <td>3</td>\n      <td>0</td>\n      <td>350</td>\n      <td>0</td>\n      <td>488</td>\n      <td>12</td>\n      <td>66</td>\n      <td>0</td>\n      <td>43</td>\n      <td>0</td>\n      <td>0</td>\n      <td>1</td>\n    </tr>\n    <tr>\n      <th>3</th>\n      <td>1</td>\n      <td>0</td>\n      <td>1530</td>\n      <td>0</td>\n      <td>381</td>\n      <td>1</td>\n      <td>398</td>\n      <td>0</td>\n      <td>28</td>\n      <td>48</td>\n      <td>0</td>\n      <td>1</td>\n    </tr>\n    <tr>\n      <th>4</th>\n      <td>0</td>\n      <td>0</td>\n      <td>688</td>\n      <td>1</td>\n      <td>396</td>\n      <td>10</td>\n      <td>60</td>\n      <td>0</td>\n      <td>49</td>\n      <td>72</td>\n      <td>0</td>\n      <td>1</td>\n    </tr>\n  </tbody>\n</table>\n</div>\n      <button class=\"colab-df-convert\" onclick=\"convertToInteractive('df-ced8ecae-cb38-45d4-82f1-b553cc1e82c5')\"\n              title=\"Convert this dataframe to an interactive table.\"\n              style=\"display:none;\">\n        \n  <svg xmlns=\"http://www.w3.org/2000/svg\" height=\"24px\"viewBox=\"0 0 24 24\"\n       width=\"24px\">\n    <path d=\"M0 0h24v24H0V0z\" fill=\"none\"/>\n    <path d=\"M18.56 5.44l.94 2.06.94-2.06 2.06-.94-2.06-.94-.94-2.06-.94 2.06-2.06.94zm-11 1L8.5 8.5l.94-2.06 2.06-.94-2.06-.94L8.5 2.5l-.94 2.06-2.06.94zm10 10l.94 2.06.94-2.06 2.06-.94-2.06-.94-.94-2.06-.94 2.06-2.06.94z\"/><path d=\"M17.41 7.96l-1.37-1.37c-.4-.4-.92-.59-1.43-.59-.52 0-1.04.2-1.43.59L10.3 9.45l-7.72 7.72c-.78.78-.78 2.05 0 2.83L4 21.41c.39.39.9.59 1.41.59.51 0 1.02-.2 1.41-.59l7.78-7.78 2.81-2.81c.8-.78.8-2.07 0-2.86zM5.41 20L4 18.59l7.72-7.72 1.47 1.35L5.41 20z\"/>\n  </svg>\n      </button>\n      \n  <style>\n    .colab-df-container {\n      display:flex;\n      flex-wrap:wrap;\n      gap: 12px;\n    }\n\n    .colab-df-convert {\n      background-color: #E8F0FE;\n      border: none;\n      border-radius: 50%;\n      cursor: pointer;\n      display: none;\n      fill: #1967D2;\n      height: 32px;\n      padding: 0 0 0 0;\n      width: 32px;\n    }\n\n    .colab-df-convert:hover {\n      background-color: #E2EBFA;\n      box-shadow: 0px 1px 2px rgba(60, 64, 67, 0.3), 0px 1px 3px 1px rgba(60, 64, 67, 0.15);\n      fill: #174EA6;\n    }\n\n    [theme=dark] .colab-df-convert {\n      background-color: #3B4455;\n      fill: #D2E3FC;\n    }\n\n    [theme=dark] .colab-df-convert:hover {\n      background-color: #434B5C;\n      box-shadow: 0px 1px 3px 1px rgba(0, 0, 0, 0.15);\n      filter: drop-shadow(0px 1px 2px rgba(0, 0, 0, 0.3));\n      fill: #FFFFFF;\n    }\n  </style>\n\n      <script>\n        const buttonEl =\n          document.querySelector('#df-ced8ecae-cb38-45d4-82f1-b553cc1e82c5 button.colab-df-convert');\n        buttonEl.style.display =\n          google.colab.kernel.accessAllowed ? 'block' : 'none';\n\n        async function convertToInteractive(key) {\n          const element = document.querySelector('#df-ced8ecae-cb38-45d4-82f1-b553cc1e82c5');\n          const dataTable =\n            await google.colab.kernel.invokeFunction('convertToInteractive',\n                                                     [key], {});\n          if (!dataTable) return;\n\n          const docLinkHtml = 'Like what you see? Visit the ' +\n            '<a target=\"_blank\" href=https://colab.research.google.com/notebooks/data_table.ipynb>data table notebook</a>'\n            + ' to learn more about interactive tables.';\n          element.innerHTML = '';\n          dataTable['output_type'] = 'display_data';\n          await google.colab.output.renderOutput(dataTable, element);\n          const docLink = document.createElement('div');\n          docLink.innerHTML = docLinkHtml;\n          element.appendChild(docLink);\n        }\n      </script>\n    </div>\n  </div>\n  ",
            "text/plain": "   ESCT  NDEP  RENDA  TIPOR  VBEM  ...  TEL  IDADE  RESMS  ENTRADA  CLASSE\n0     0     2    500      1   618  ...    0     36      6        0       0\n1     1     0    813      0   552  ...    0     43     48      119       1\n2     3     0    350      0   488  ...    0     43      0        0       1\n3     1     0   1530      0   381  ...    0     28     48        0       1\n4     0     0    688      1   396  ...    0     49     72        0       1\n\n[5 rows x 12 columns]"
          },
          "metadata": {}
        }
      ],
      "execution_count": 8,
      "metadata": {
        "colab": {
          "base_uri": "https://localhost:8080/",
          "height": 206
        },
        "id": "2qdSwb4AuGEo",
        "outputId": "23030a75-752a-4325-f2ca-6fe8a81d96db"
      }
    },
    {
      "cell_type": "markdown",
      "source": [
        "## Pré-processamento dos dados"
      ],
      "metadata": {
        "id": "6nLoBloCF-sZ"
      }
    },
    {
      "cell_type": "markdown",
      "source": [
        "### Transformação de variáveis não-numéricas\n",
        "\n",
        "É importante observar que a variável ESCT (Estado Civil) é do tipo categórica, podendo assumir 4 valores diferentes (cada valor corresponde a um estado civil). Assim, diferentemente de NDEP (onde cada valor corresponde a uma quantidade de dependentes), na variável ESCT cada valor corresponde a uma categoria. Contudo, este fato pode trazer inconsistências na criação e treinamento de modelos.\n",
        "\n",
        "Para mitigar este problema, uma alternativa é tranformar a variável ESCT em uma variável *dummy* (variável binária). Neste sentido, cada categoria da variável ESCT corresponderá a uma variável. Visto que há 4 possíveis categorias para a variável ESCT, obteremos 4 variáveis ESCT binárias.\n",
        "\n",
        "Uma variável *dummy* é uma variável binária utilizadas para representar categorias. Neste sentido, em um caso de uma variável com 3 ou mais categorias, recomenda-se a criação de $n-1$ dummies. Diante disso, a variável ESCT será transformada em 4 \"variantes dummy\", onde o valor 1 corresponderá à ocorrência de determinada categoria e o valor 0 corresponderá à não ocorrência."
      ],
      "metadata": {
        "id": "q-Xss-RY2tml"
      }
    },
    {
      "cell_type": "code",
      "source": [
        "# Aplicação no conjunto de treinamento\n",
        "data_train_new = pd.get_dummies(data = data_train, \n",
        "                                prefix='ESCT', \n",
        "                                columns=['ESCT'], \n",
        "                                drop_first=True)\n",
        "\n",
        "\"\"\"\n",
        "pd.get_dummies: Convert categorical variable into dummy/indicator variables.\n",
        "\"\"\"\n",
        "\n",
        "# Inspeção das primeiras linhas\n",
        "data_train_new.head()"
      ],
      "outputs": [
        {
          "output_type": "execute_result",
          "execution_count": 9,
          "data": {
            "text/html": "\n  <div id=\"df-7a676d1b-1515-4f76-a389-d0c1a343e796\">\n    <div class=\"colab-df-container\">\n      <div>\n<style scoped>\n    .dataframe tbody tr th:only-of-type {\n        vertical-align: middle;\n    }\n\n    .dataframe tbody tr th {\n        vertical-align: top;\n    }\n\n    .dataframe thead th {\n        text-align: right;\n    }\n</style>\n<table border=\"1\" class=\"dataframe\">\n  <thead>\n    <tr style=\"text-align: right;\">\n      <th></th>\n      <th>NDEP</th>\n      <th>RENDA</th>\n      <th>TIPOR</th>\n      <th>VBEM</th>\n      <th>NPARC</th>\n      <th>VPARC</th>\n      <th>TEL</th>\n      <th>IDADE</th>\n      <th>RESMS</th>\n      <th>ENTRADA</th>\n      <th>CLASSE</th>\n      <th>ESCT_1</th>\n      <th>ESCT_2</th>\n      <th>ESCT_3</th>\n    </tr>\n  </thead>\n  <tbody>\n    <tr>\n      <th>0</th>\n      <td>0</td>\n      <td>360</td>\n      <td>0</td>\n      <td>313</td>\n      <td>9</td>\n      <td>52</td>\n      <td>0</td>\n      <td>25</td>\n      <td>48</td>\n      <td>0</td>\n      <td>1</td>\n      <td>1</td>\n      <td>0</td>\n      <td>0</td>\n    </tr>\n    <tr>\n      <th>1</th>\n      <td>0</td>\n      <td>350</td>\n      <td>1</td>\n      <td>468</td>\n      <td>10</td>\n      <td>65</td>\n      <td>0</td>\n      <td>33</td>\n      <td>6</td>\n      <td>0</td>\n      <td>1</td>\n      <td>0</td>\n      <td>0</td>\n      <td>0</td>\n    </tr>\n    <tr>\n      <th>2</th>\n      <td>0</td>\n      <td>1100</td>\n      <td>0</td>\n      <td>829</td>\n      <td>9</td>\n      <td>125</td>\n      <td>0</td>\n      <td>56</td>\n      <td>48</td>\n      <td>0</td>\n      <td>1</td>\n      <td>0</td>\n      <td>0</td>\n      <td>0</td>\n    </tr>\n    <tr>\n      <th>3</th>\n      <td>0</td>\n      <td>3000</td>\n      <td>0</td>\n      <td>552</td>\n      <td>12</td>\n      <td>76</td>\n      <td>1</td>\n      <td>31</td>\n      <td>60</td>\n      <td>0</td>\n      <td>1</td>\n      <td>0</td>\n      <td>0</td>\n      <td>0</td>\n    </tr>\n    <tr>\n      <th>4</th>\n      <td>0</td>\n      <td>1000</td>\n      <td>0</td>\n      <td>809</td>\n      <td>12</td>\n      <td>111</td>\n      <td>0</td>\n      <td>24</td>\n      <td>7</td>\n      <td>0</td>\n      <td>1</td>\n      <td>1</td>\n      <td>0</td>\n      <td>0</td>\n    </tr>\n  </tbody>\n</table>\n</div>\n      <button class=\"colab-df-convert\" onclick=\"convertToInteractive('df-7a676d1b-1515-4f76-a389-d0c1a343e796')\"\n              title=\"Convert this dataframe to an interactive table.\"\n              style=\"display:none;\">\n        \n  <svg xmlns=\"http://www.w3.org/2000/svg\" height=\"24px\"viewBox=\"0 0 24 24\"\n       width=\"24px\">\n    <path d=\"M0 0h24v24H0V0z\" fill=\"none\"/>\n    <path d=\"M18.56 5.44l.94 2.06.94-2.06 2.06-.94-2.06-.94-.94-2.06-.94 2.06-2.06.94zm-11 1L8.5 8.5l.94-2.06 2.06-.94-2.06-.94L8.5 2.5l-.94 2.06-2.06.94zm10 10l.94 2.06.94-2.06 2.06-.94-2.06-.94-.94-2.06-.94 2.06-2.06.94z\"/><path d=\"M17.41 7.96l-1.37-1.37c-.4-.4-.92-.59-1.43-.59-.52 0-1.04.2-1.43.59L10.3 9.45l-7.72 7.72c-.78.78-.78 2.05 0 2.83L4 21.41c.39.39.9.59 1.41.59.51 0 1.02-.2 1.41-.59l7.78-7.78 2.81-2.81c.8-.78.8-2.07 0-2.86zM5.41 20L4 18.59l7.72-7.72 1.47 1.35L5.41 20z\"/>\n  </svg>\n      </button>\n      \n  <style>\n    .colab-df-container {\n      display:flex;\n      flex-wrap:wrap;\n      gap: 12px;\n    }\n\n    .colab-df-convert {\n      background-color: #E8F0FE;\n      border: none;\n      border-radius: 50%;\n      cursor: pointer;\n      display: none;\n      fill: #1967D2;\n      height: 32px;\n      padding: 0 0 0 0;\n      width: 32px;\n    }\n\n    .colab-df-convert:hover {\n      background-color: #E2EBFA;\n      box-shadow: 0px 1px 2px rgba(60, 64, 67, 0.3), 0px 1px 3px 1px rgba(60, 64, 67, 0.15);\n      fill: #174EA6;\n    }\n\n    [theme=dark] .colab-df-convert {\n      background-color: #3B4455;\n      fill: #D2E3FC;\n    }\n\n    [theme=dark] .colab-df-convert:hover {\n      background-color: #434B5C;\n      box-shadow: 0px 1px 3px 1px rgba(0, 0, 0, 0.15);\n      filter: drop-shadow(0px 1px 2px rgba(0, 0, 0, 0.3));\n      fill: #FFFFFF;\n    }\n  </style>\n\n      <script>\n        const buttonEl =\n          document.querySelector('#df-7a676d1b-1515-4f76-a389-d0c1a343e796 button.colab-df-convert');\n        buttonEl.style.display =\n          google.colab.kernel.accessAllowed ? 'block' : 'none';\n\n        async function convertToInteractive(key) {\n          const element = document.querySelector('#df-7a676d1b-1515-4f76-a389-d0c1a343e796');\n          const dataTable =\n            await google.colab.kernel.invokeFunction('convertToInteractive',\n                                                     [key], {});\n          if (!dataTable) return;\n\n          const docLinkHtml = 'Like what you see? Visit the ' +\n            '<a target=\"_blank\" href=https://colab.research.google.com/notebooks/data_table.ipynb>data table notebook</a>'\n            + ' to learn more about interactive tables.';\n          element.innerHTML = '';\n          dataTable['output_type'] = 'display_data';\n          await google.colab.output.renderOutput(dataTable, element);\n          const docLink = document.createElement('div');\n          docLink.innerHTML = docLinkHtml;\n          element.appendChild(docLink);\n        }\n      </script>\n    </div>\n  </div>\n  ",
            "text/plain": "   NDEP  RENDA  TIPOR  VBEM  NPARC  ...  ENTRADA  CLASSE  ESCT_1  ESCT_2  ESCT_3\n0     0    360      0   313      9  ...        0       1       1       0       0\n1     0    350      1   468     10  ...        0       1       0       0       0\n2     0   1100      0   829      9  ...        0       1       0       0       0\n3     0   3000      0   552     12  ...        0       1       0       0       0\n4     0   1000      0   809     12  ...        0       1       1       0       0\n\n[5 rows x 14 columns]"
          },
          "metadata": {}
        }
      ],
      "execution_count": 9,
      "metadata": {
        "colab": {
          "base_uri": "https://localhost:8080/",
          "height": 206
        },
        "id": "yErjVPa6_uCo",
        "outputId": "46abe673-8593-43aa-d110-d77311b4fbc1"
      }
    },
    {
      "cell_type": "code",
      "source": [
        "# Aplicação da transformação sobre o conjunto de teste\n",
        "data_test_new = pd.get_dummies(data = data_test, prefix='ESCT', columns=['ESCT'], drop_first=True)\n",
        "\n",
        "\"\"\"\n",
        "pd.get_dummies: Convert categorical variable into dummy/indicator variables\n",
        "\"\"\"\n",
        "\n",
        "# Inspeção das primeiras linhas\n",
        "data_test_new.head()"
      ],
      "outputs": [
        {
          "output_type": "execute_result",
          "execution_count": 10,
          "data": {
            "text/html": "\n  <div id=\"df-12093703-b022-4aa1-b657-2c14067f7d5e\">\n    <div class=\"colab-df-container\">\n      <div>\n<style scoped>\n    .dataframe tbody tr th:only-of-type {\n        vertical-align: middle;\n    }\n\n    .dataframe tbody tr th {\n        vertical-align: top;\n    }\n\n    .dataframe thead th {\n        text-align: right;\n    }\n</style>\n<table border=\"1\" class=\"dataframe\">\n  <thead>\n    <tr style=\"text-align: right;\">\n      <th></th>\n      <th>NDEP</th>\n      <th>RENDA</th>\n      <th>TIPOR</th>\n      <th>VBEM</th>\n      <th>NPARC</th>\n      <th>VPARC</th>\n      <th>TEL</th>\n      <th>IDADE</th>\n      <th>RESMS</th>\n      <th>ENTRADA</th>\n      <th>CLASSE</th>\n      <th>ESCT_1</th>\n      <th>ESCT_2</th>\n      <th>ESCT_3</th>\n    </tr>\n  </thead>\n  <tbody>\n    <tr>\n      <th>0</th>\n      <td>2</td>\n      <td>500</td>\n      <td>1</td>\n      <td>618</td>\n      <td>10</td>\n      <td>85</td>\n      <td>0</td>\n      <td>36</td>\n      <td>6</td>\n      <td>0</td>\n      <td>0</td>\n      <td>0</td>\n      <td>0</td>\n      <td>0</td>\n    </tr>\n    <tr>\n      <th>1</th>\n      <td>0</td>\n      <td>813</td>\n      <td>0</td>\n      <td>552</td>\n      <td>4</td>\n      <td>119</td>\n      <td>0</td>\n      <td>43</td>\n      <td>48</td>\n      <td>119</td>\n      <td>1</td>\n      <td>1</td>\n      <td>0</td>\n      <td>0</td>\n    </tr>\n    <tr>\n      <th>2</th>\n      <td>0</td>\n      <td>350</td>\n      <td>0</td>\n      <td>488</td>\n      <td>12</td>\n      <td>66</td>\n      <td>0</td>\n      <td>43</td>\n      <td>0</td>\n      <td>0</td>\n      <td>1</td>\n      <td>0</td>\n      <td>0</td>\n      <td>1</td>\n    </tr>\n    <tr>\n      <th>3</th>\n      <td>0</td>\n      <td>1530</td>\n      <td>0</td>\n      <td>381</td>\n      <td>1</td>\n      <td>398</td>\n      <td>0</td>\n      <td>28</td>\n      <td>48</td>\n      <td>0</td>\n      <td>1</td>\n      <td>1</td>\n      <td>0</td>\n      <td>0</td>\n    </tr>\n    <tr>\n      <th>4</th>\n      <td>0</td>\n      <td>688</td>\n      <td>1</td>\n      <td>396</td>\n      <td>10</td>\n      <td>60</td>\n      <td>0</td>\n      <td>49</td>\n      <td>72</td>\n      <td>0</td>\n      <td>1</td>\n      <td>0</td>\n      <td>0</td>\n      <td>0</td>\n    </tr>\n  </tbody>\n</table>\n</div>\n      <button class=\"colab-df-convert\" onclick=\"convertToInteractive('df-12093703-b022-4aa1-b657-2c14067f7d5e')\"\n              title=\"Convert this dataframe to an interactive table.\"\n              style=\"display:none;\">\n        \n  <svg xmlns=\"http://www.w3.org/2000/svg\" height=\"24px\"viewBox=\"0 0 24 24\"\n       width=\"24px\">\n    <path d=\"M0 0h24v24H0V0z\" fill=\"none\"/>\n    <path d=\"M18.56 5.44l.94 2.06.94-2.06 2.06-.94-2.06-.94-.94-2.06-.94 2.06-2.06.94zm-11 1L8.5 8.5l.94-2.06 2.06-.94-2.06-.94L8.5 2.5l-.94 2.06-2.06.94zm10 10l.94 2.06.94-2.06 2.06-.94-2.06-.94-.94-2.06-.94 2.06-2.06.94z\"/><path d=\"M17.41 7.96l-1.37-1.37c-.4-.4-.92-.59-1.43-.59-.52 0-1.04.2-1.43.59L10.3 9.45l-7.72 7.72c-.78.78-.78 2.05 0 2.83L4 21.41c.39.39.9.59 1.41.59.51 0 1.02-.2 1.41-.59l7.78-7.78 2.81-2.81c.8-.78.8-2.07 0-2.86zM5.41 20L4 18.59l7.72-7.72 1.47 1.35L5.41 20z\"/>\n  </svg>\n      </button>\n      \n  <style>\n    .colab-df-container {\n      display:flex;\n      flex-wrap:wrap;\n      gap: 12px;\n    }\n\n    .colab-df-convert {\n      background-color: #E8F0FE;\n      border: none;\n      border-radius: 50%;\n      cursor: pointer;\n      display: none;\n      fill: #1967D2;\n      height: 32px;\n      padding: 0 0 0 0;\n      width: 32px;\n    }\n\n    .colab-df-convert:hover {\n      background-color: #E2EBFA;\n      box-shadow: 0px 1px 2px rgba(60, 64, 67, 0.3), 0px 1px 3px 1px rgba(60, 64, 67, 0.15);\n      fill: #174EA6;\n    }\n\n    [theme=dark] .colab-df-convert {\n      background-color: #3B4455;\n      fill: #D2E3FC;\n    }\n\n    [theme=dark] .colab-df-convert:hover {\n      background-color: #434B5C;\n      box-shadow: 0px 1px 3px 1px rgba(0, 0, 0, 0.15);\n      filter: drop-shadow(0px 1px 2px rgba(0, 0, 0, 0.3));\n      fill: #FFFFFF;\n    }\n  </style>\n\n      <script>\n        const buttonEl =\n          document.querySelector('#df-12093703-b022-4aa1-b657-2c14067f7d5e button.colab-df-convert');\n        buttonEl.style.display =\n          google.colab.kernel.accessAllowed ? 'block' : 'none';\n\n        async function convertToInteractive(key) {\n          const element = document.querySelector('#df-12093703-b022-4aa1-b657-2c14067f7d5e');\n          const dataTable =\n            await google.colab.kernel.invokeFunction('convertToInteractive',\n                                                     [key], {});\n          if (!dataTable) return;\n\n          const docLinkHtml = 'Like what you see? Visit the ' +\n            '<a target=\"_blank\" href=https://colab.research.google.com/notebooks/data_table.ipynb>data table notebook</a>'\n            + ' to learn more about interactive tables.';\n          element.innerHTML = '';\n          dataTable['output_type'] = 'display_data';\n          await google.colab.output.renderOutput(dataTable, element);\n          const docLink = document.createElement('div');\n          docLink.innerHTML = docLinkHtml;\n          element.appendChild(docLink);\n        }\n      </script>\n    </div>\n  </div>\n  ",
            "text/plain": "   NDEP  RENDA  TIPOR  VBEM  NPARC  ...  ENTRADA  CLASSE  ESCT_1  ESCT_2  ESCT_3\n0     2    500      1   618     10  ...        0       0       0       0       0\n1     0    813      0   552      4  ...      119       1       1       0       0\n2     0    350      0   488     12  ...        0       1       0       0       1\n3     0   1530      0   381      1  ...        0       1       1       0       0\n4     0    688      1   396     10  ...        0       1       0       0       0\n\n[5 rows x 14 columns]"
          },
          "metadata": {}
        }
      ],
      "execution_count": 10,
      "metadata": {
        "colab": {
          "base_uri": "https://localhost:8080/",
          "height": 206
        },
        "id": "hI9UgoSS_uCp",
        "outputId": "f7f045fd-6660-453a-d4c1-433186b51353"
      }
    },
    {
      "cell_type": "markdown",
      "source": [
        "**Separação do conjunto de dados em rótulo ($\\mathrm{y}$) e features ($\\mathrm{x}$)**\n",
        "\n",
        "O rótulo ($\\mathrm{y}$) corresponde ao vetor contendo a variável alvo (CLASSE), enquanto que features ($\\mathrm{x}$) corresponde à matriz de dados."
      ],
      "metadata": {
        "id": "yRkwEDzO91ZB"
      }
    },
    {
      "cell_type": "code",
      "source": [
        "# Transformação da variável alvo do conjunto de treinamento em vetor\n",
        "y_train = np.array(data_train_new['CLASSE'])\n",
        "\n",
        "# Inspeção das primeira linhas\n",
        "y_train[:5]"
      ],
      "outputs": [
        {
          "output_type": "execute_result",
          "execution_count": 11,
          "data": {
            "text/plain": "array([1, 1, 1, 1, 1])"
          },
          "metadata": {}
        }
      ],
      "execution_count": 11,
      "metadata": {
        "colab": {
          "base_uri": "https://localhost:8080/"
        },
        "id": "mxKjqguU_uCr",
        "outputId": "c3dbcdc2-f51d-4e21-9a53-3832d6772ae2"
      }
    },
    {
      "cell_type": "code",
      "source": [
        "# Transformação da variável alvo do conjunto de teste em vetor\n",
        "y_test = np.array(data_test_new['CLASSE'])\n",
        "\n",
        "# Inspeção das primeiras linhas\n",
        "y_test[:5]"
      ],
      "outputs": [
        {
          "output_type": "execute_result",
          "execution_count": 12,
          "data": {
            "text/plain": "array([0, 1, 1, 1, 1])"
          },
          "metadata": {}
        }
      ],
      "execution_count": 12,
      "metadata": {
        "colab": {
          "base_uri": "https://localhost:8080/"
        },
        "id": "9bIZH23c_uCt",
        "outputId": "d94dc393-5b9a-45d1-cb03-8ee573380f56"
      }
    },
    {
      "cell_type": "code",
      "source": [
        "# Transformação do conjunto de treinamento remanescente em matriz de dados\n",
        "features_name_train = list(data_train_new.columns)               # nomes das colunas\n",
        "features_name_train.remove('CLASSE')                             # remove variável \"CLASSE\"\n",
        "X_train = np.array(data_train_new.loc[:, features_name_train])   # Transformação em matriz de dados\n",
        "\n",
        "# Inspeção da matriz resultante\n",
        "X_train"
      ],
      "outputs": [
        {
          "output_type": "execute_result",
          "execution_count": 13,
          "data": {
            "text/plain": "array([[   0,  360,    0, ...,    1,    0,    0],\n       [   0,  350,    1, ...,    0,    0,    0],\n       [   0, 1100,    0, ...,    0,    0,    0],\n       ...,\n       [   0,  570,    0, ...,    0,    0,    0],\n       [   0,  360,    0, ...,    0,    0,    0],\n       [   4,  501,    1, ...,    0,    0,    0]])"
          },
          "metadata": {}
        }
      ],
      "execution_count": 13,
      "metadata": {
        "colab": {
          "base_uri": "https://localhost:8080/"
        },
        "id": "J7YkPky3_uCv",
        "outputId": "0ae3183e-a089-476c-e3fc-ca778054cddf"
      }
    },
    {
      "cell_type": "code",
      "source": [
        "# Transformação do conjunto de teste remanescente em matriz de dados\n",
        "features_name_test = list(data_test_new.columns)               # Recuperação dos nomes das colunas\n",
        "features_name_test.remove('CLASSE')                            # Remoção da variável \"CLASSE\"\n",
        "X_test = np.array(data_test_new.loc[:, features_name_test])   # Transformação em matriz\n",
        "\n",
        "# Inspeção da matriz resultante\n",
        "X_test"
      ],
      "outputs": [
        {
          "output_type": "execute_result",
          "execution_count": 14,
          "data": {
            "text/plain": "array([[   2,  500,    1, ...,    0,    0,    0],\n       [   0,  813,    0, ...,    1,    0,    0],\n       [   0,  350,    0, ...,    0,    0,    1],\n       ...,\n       [   3, 1200,    0, ...,    0,    0,    0],\n       [   0,  600,    0, ...,    1,    0,    0],\n       [   0,  800,    1, ...,    0,    0,    0]])"
          },
          "metadata": {}
        }
      ],
      "execution_count": 14,
      "metadata": {
        "colab": {
          "base_uri": "https://localhost:8080/"
        },
        "id": "Zl5JbSo2_uCw",
        "outputId": "2f5df1c3-67df-4af4-f536-524f9912dd15"
      }
    },
    {
      "cell_type": "markdown",
      "source": [
        "### Normalização das features\n",
        "\n",
        "Antes de iniciar o treinamento, é também necessário realizar a *normalização* das características a fim de evitar problemas decorrentes à discrepância nas ordens de grandeza das features."
      ],
      "metadata": {
        "id": "Rd9a5XDvDmso"
      }
    },
    {
      "cell_type": "code",
      "source": [
        "# Criação do objeto para a padronização das features\n",
        "scaler = StandardScaler()\n",
        "\n",
        "# Ajustamento do StandardScaler ao conjunto de dados de treino e padronização dos dados de treino\n",
        "X_train_norm = scaler.fit_transform(X_train)\n",
        "\n",
        "# Transformação dos dados de teste com os parâmetros ajustados a partir dos dados de treino\n",
        "X_test_norm = scaler.transform(X_test)"
      ],
      "outputs": [],
      "execution_count": 17,
      "metadata": {
        "id": "CNkkpj63EedQ"
      }
    },
    {
      "cell_type": "code",
      "source": [
        "# Dimensões dos datasets\n",
        "print(X_train_norm.shape, X_test_norm.shape, y_train.shape, y_test.shape)"
      ],
      "outputs": [
        {
          "output_type": "stream",
          "name": "stdout",
          "text": "(1500, 13) (577, 13) (1500,) (577,)\n"
        }
      ],
      "execution_count": 18,
      "metadata": {
        "colab": {
          "base_uri": "https://localhost:8080/"
        },
        "id": "RazjkSXbe336",
        "outputId": "b6c38010-45cd-4e4a-fc87-1142aa5c61c0"
      }
    },
    {
      "cell_type": "markdown",
      "source": [
        "## Treinamento do modelo"
      ],
      "metadata": {
        "id": "XIe5k4w4kA-B"
      }
    },
    {
      "cell_type": "code",
      "source": [
        "# seu código aqui"
      ],
      "outputs": [],
      "execution_count": null,
      "metadata": {
        "id": "7GWUb_d4kJI8"
      }
    },
    {
      "cell_type": "markdown",
      "source": [
        "## Validação do modelo"
      ],
      "metadata": {
        "id": "5T9JwxRikHKh"
      }
    },
    {
      "cell_type": "code",
      "source": [
        "# seu código aqui"
      ],
      "outputs": [],
      "execution_count": null,
      "metadata": {
        "id": "2j8gkXUQkLY8"
      }
    },
    {
      "cell_type": "markdown",
      "source": [
        " # Predição de preços de diamantes"
      ],
      "metadata": {
        "id": "Niw6wHrljjV2"
      }
    },
    {
      "cell_type": "markdown",
      "source": [
        "## Carga e inspeção dos dados"
      ],
      "metadata": {
        "id": "ONbiiXLbq1tA"
      }
    },
    {
      "cell_type": "code",
      "source": [
        "# seu código aqui"
      ],
      "outputs": [],
      "execution_count": null,
      "metadata": {
        "id": "LmBHvO2Cq08F"
      }
    },
    {
      "cell_type": "markdown",
      "source": [
        "## Pré-processamento dos dados"
      ],
      "metadata": {
        "id": "iEp9JWGCqMkm"
      }
    },
    {
      "cell_type": "code",
      "source": [
        "# seu código aqui"
      ],
      "outputs": [],
      "execution_count": null,
      "metadata": {
        "id": "9t7KmrCakSpa"
      }
    },
    {
      "cell_type": "markdown",
      "source": [
        "## Treinamento do modelo"
      ],
      "metadata": {
        "id": "XIQ-Z9WtqOtt"
      }
    },
    {
      "cell_type": "code",
      "source": [
        "# seu código aqui"
      ],
      "outputs": [],
      "execution_count": null,
      "metadata": {
        "id": "z32YFTSrqTX5"
      }
    },
    {
      "cell_type": "markdown",
      "source": [
        "## Validação do modelo"
      ],
      "metadata": {
        "id": "e5p1O5qXqYf0"
      }
    },
    {
      "cell_type": "code",
      "source": [
        "# seu código aqui"
      ],
      "outputs": [],
      "execution_count": null,
      "metadata": {
        "id": "b626XbseqYf0"
      }
    },
    {
      "cell_type": "markdown",
      "source": [
        "# Classificação de imagens (Fashion MNIST)"
      ],
      "metadata": {
        "id": "JY79wPKJjn6j"
      }
    },
    {
      "cell_type": "markdown",
      "source": [
        "## Carga e inspeção dos dados"
      ],
      "metadata": {
        "id": "x9DDmWNDrEJj"
      }
    },
    {
      "cell_type": "code",
      "source": [
        "# seu código aqui"
      ],
      "outputs": [],
      "execution_count": null,
      "metadata": {
        "id": "CFZiP_KYrEJj"
      }
    },
    {
      "cell_type": "markdown",
      "source": [
        "## Pré-processamento dos dados"
      ],
      "metadata": {
        "id": "G9vwj6JLrEJj"
      }
    },
    {
      "cell_type": "code",
      "source": [
        "# seu código aqui"
      ],
      "outputs": [],
      "execution_count": null,
      "metadata": {
        "id": "a9eg0TLyrEJk"
      }
    },
    {
      "cell_type": "markdown",
      "source": [
        "## Treinamento do modelo"
      ],
      "metadata": {
        "id": "PD4E55alrEJk"
      }
    },
    {
      "cell_type": "code",
      "source": [
        "# seu código aqui"
      ],
      "outputs": [],
      "execution_count": null,
      "metadata": {
        "id": "hNJlO8TvrEJk"
      }
    },
    {
      "cell_type": "markdown",
      "source": [
        "## Validação do modelo"
      ],
      "metadata": {
        "id": "Fm6UfQL7rEJk"
      }
    },
    {
      "cell_type": "code",
      "source": [
        "# seu código aqui"
      ],
      "outputs": [],
      "execution_count": null,
      "metadata": {
        "id": "-ehrIzAxkTgJ"
      }
    }
  ],
  "metadata": {
    "colab": {
      "name": "DL_T1.ipynb",
      "provenance": [],
      "collapsed_sections": [],
      "toc_visible": true
    },
    "kernelspec": {
      "name": "python3",
      "display_name": "Python 3"
    },
    "language_info": {
      "name": "python"
    },
    "nteract": {
      "version": "nteract-front-end@1.0.0"
    }
  },
  "nbformat": 4,
  "nbformat_minor": 0
}